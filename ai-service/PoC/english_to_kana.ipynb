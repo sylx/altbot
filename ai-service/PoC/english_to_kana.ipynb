{
 "cells": [
  {
   "cell_type": "code",
   "execution_count": 1,
   "metadata": {},
   "outputs": [],
   "source": [
    "import os\n",
    "import sys\n",
    "from pathlib import Path\n",
    "\n",
    "base_dir=f'{Path(os.getcwd()).parent}'\n",
    "sys.path.append(base_dir)\n",
    "\n",
    "from libs.english_to_kana import EnglishToKana\n"
   ]
  },
  {
   "cell_type": "code",
   "execution_count": 2,
   "metadata": {},
   "outputs": [
    {
     "data": {
      "text/plain": [
       "['コンニチワ', 'ヘロー', 'イコイッテッ', '', 'イコイ', 'シャムネコ', 'コウエイ', 'トッキョ', None, 'アッィ']"
      ]
     },
     "execution_count": 2,
     "metadata": {},
     "output_type": "execute_result"
    }
   ],
   "source": [
    "e2k = EnglishToKana()\n",
    "[\n",
    "    e2k.convert('konnichiwa'),\n",
    "    e2k.convert('hello'),\n",
    "    e2k.convert('ikoitter',True),\n",
    "    e2k.convert(''),\n",
    "    e2k.convert('ikoi'),\n",
    "    e2k.convert('shamuneko'),\n",
    "    e2k.convert('kouei'),\n",
    "    e2k.convert('tokkyo'),\n",
    "    e2k.convert('urryyyyo'),\n",
    "    e2k.convert('axxi'),\n",
    "]"
   ]
  },
  {
   "cell_type": "code",
   "execution_count": 5,
   "metadata": {},
   "outputs": [
    {
     "data": {
      "text/plain": [
       "'ジス イズ ア ペン.'"
      ]
     },
     "execution_count": 5,
     "metadata": {},
     "output_type": "execute_result"
    }
   ],
   "source": [
    "import re\n",
    "wholeText=\"this is a pen.\"\n",
    "re.sub(r'[a-zA-Z]+', lambda m: e2k.convert(m.group()), wholeText)"
   ]
  }
 ],
 "metadata": {
  "kernelspec": {
   "display_name": "venv",
   "language": "python",
   "name": "python3"
  },
  "language_info": {
   "codemirror_mode": {
    "name": "ipython",
    "version": 3
   },
   "file_extension": ".py",
   "mimetype": "text/x-python",
   "name": "python",
   "nbconvert_exporter": "python",
   "pygments_lexer": "ipython3",
   "version": "3.8.10"
  }
 },
 "nbformat": 4,
 "nbformat_minor": 2
}
